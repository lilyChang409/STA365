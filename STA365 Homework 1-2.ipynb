{
 "cells": [
  {
   "cell_type": "markdown",
   "id": "85a9c667",
   "metadata": {},
   "source": [
    "\n",
    "# HW1\n",
    "$\\text{I was given three choice with unknown probability of Success.}$$\\text{Since I accuqire no prior information about any of the choices; I will use beta distribution as the prior distribution.}$$\\text{Notice if we were to set $\\alpha$ =1 and $\\beta$ =1, the beta distribution is equal to an uniform distribution that lies in the range $[$0,1$]$.}$$\\text{Then, we have:}$\n",
    "$$p(\\theta_A)=p(\\theta_B)=p(\\theta_C)=\\frac{\\Gamma(\\alpha+\\beta)}{\\Gamma(\\alpha)\\Gamma(\\beta)}\\theta^{\\alpha-1}(1-\\theta)^{\\beta-1}\\quad \\begin{array}{l}\\text{where $\\alpha$ and $\\beta$ are 1}\\\\ \\end{array}$$"
   ]
  },
  {
   "cell_type": "markdown",
   "id": "fafd8516",
   "metadata": {},
   "source": [
    "\\begin{array}{}\n",
    "\\text{Our test will be based on the idea of Baysian Bandit.}\\newline\n",
    "1.\\text{We will assign a beta prior distribution for each choice} \\\\\n",
    "2.\\text{We will randomly generate one sample from each of the corresponding beta prior} \\\\\n",
    "3.\\text{We will choose the choice with the maximum sample value out of the three}  \\\\\n",
    "4.\\text{We will simulate to the real world and generate an outcome based on true probability}\\\\\n",
    "5.\\text{We will update the choosen choice prior with the outcome we generated in step 4}\\\\\n",
    "6.\\text{Repeat the the steps above}\n",
    "\\end{array}\n"
   ]
  },
  {
   "cell_type": "code",
   "execution_count": 175,
   "id": "097b6135",
   "metadata": {},
   "outputs": [],
   "source": [
    "import numpy as np;\n",
    "import scipy;\n",
    "from scipy import stats; import matplotlib.pyplot as plt\n",
    "np.random.seed(300)\n",
    "#Suppose the true probability of each choice is:\n",
    "true_brobability = {'A':0.3,'B':0.5,'C':0.8}\n",
    "choice = ['A','B','C']\n",
    "#Since our prior is beta distribution, we must provide the alpha and beta value for it\n",
    "#Now, we will create tuples that contains the alpha and beta value for the priors\n",
    "priorA =(1,1)\n",
    "priorB =(1,1)\n",
    "priorC =(1,1)\n",
    "#Note here we have alpha and beta both equals to 1, since we want the beta distribution to be uniform\n",
    "\n",
    "#We will now create a function called \"large1\" which takes the 3 priors as input; it will randomly sample from each prior \n",
    "#and returns the prior with the maximum sampled value out of the 3 sampled values\n",
    "#\"large1\" help us to decide which posterior we should be updating in the later step\n",
    "def large1(priorA, priorB, priorC):\n",
    "    a_sampled=scipy.stats.beta.rvs(priorA[0],priorA[1])\n",
    "    b_sampled=scipy.stats.beta.rvs(priorB[0],priorB[1])\n",
    "    c_sampled=scipy.stats.beta.rvs(priorC[0],priorC[1])\n",
    "    return choice[np.argmax([a_sampled,b_sampled,c_sampled])]\n",
    "\n",
    "#We will create the function \"simulate\" to get the outcome from the selected choice (choice are selected from large1)\n",
    "#We generate outcome with the help of the true probability that we set in the begining\n",
    "#Function \"simulate\" takes the choosen choice and true probability as input and return the outcome\n",
    "def simulate(choice, true_brobability):\n",
    "    #Here, we are assuming that we have choosen a prior (out of the 3 prior)\n",
    "    #We compare the choosen prior's true probability with a randomly generated probability to simulate the real world\n",
    "    if true_brobability[choice]> scipy.stats.uniform.rvs(0,1):\n",
    "        return 1\n",
    "    else:\n",
    "        return 0\n",
    "#Here, 1 implies that we won, while 0 implies we lost\n"
   ]
  },
  {
   "cell_type": "markdown",
   "id": "b2bef99d",
   "metadata": {},
   "source": [
    "$\\text{We have learned in class that having a beta prior with binomial likehihood will result in beta posterior distrbution:}$\\begin{align*}p(\\theta|x) &\\propto{} \\theta^{x+\\alpha-1}(1-\\theta)^{n-x+\\beta-1}\\end{align*}\n",
    "$\\text{If we know the $n$ and $x$, we can easily updated the posterior accordingly.}$\n",
    "$\\text{(From equation above, we see that updated alpha = alpha+the number of time we won, the updated beta = beta+the number of time we lost)}$\n",
    "$\\text{Now we can now move on to construct a function that I could use to update my posterior.}$"
   ]
  },
  {
   "cell_type": "code",
   "execution_count": 177,
   "id": "08be8ff3",
   "metadata": {},
   "outputs": [],
   "source": [
    "#We will create the fuction \"updates\" to update our prior.\n",
    "#This function takes the choocen choice as input and returns the updated posteriors for the choocen choice\n",
    "def updates(choice,priorA,priorB,priorC,outcome):\n",
    "    if choice=='A':\n",
    "        priorA=(priorA[0]+outcome,priorA[1]+1-outcome)\n",
    "    elif choice=='B':\n",
    "        priorB=(priorB[0]+outcome,priorB[1]+1-outcome)\n",
    "    elif choice=='C':\n",
    "        priorC=(priorC[0]+outcome,priorC[1]+1-outcome)\n",
    "    return priorA,priorB,priorC\n",
    "#Lastly, I want to construct the function onetime; onetime will run the test one time\n",
    "def onetime(priorA,priorB,priorC):\n",
    "    choice = large1(priorA,priorB,priorC)\n",
    "    outcome = simulate(choice, true_brobability)\n",
    "    priorA,priorB,priorC = updates(choice,priorA,priorB,priorC,outcome)\n",
    "    return choice,priorA,priorB,priorC"
   ]
  },
  {
   "cell_type": "markdown",
   "id": "a5fb3902",
   "metadata": {},
   "source": [
    "$\\text{Now, we have the code to run our test one time. We will collect more data by running the test 50 times}$"
   ]
  },
  {
   "cell_type": "code",
   "execution_count": 178,
   "id": "f5d527b9",
   "metadata": {
    "scrolled": true
   },
   "outputs": [
    {
     "name": "stdout",
     "output_type": "stream",
     "text": [
      "[('_', (1, 1), (1, 1), (1, 1)), ('A', (1, 2), (1, 1), (1, 1)), ('C', (1, 2), (1, 1), (2, 1)), ('C', (1, 2), (1, 1), (3, 1)), ('C', (1, 2), (1, 1), (4, 1)), ('C', (1, 2), (1, 1), (5, 1)), ('C', (1, 2), (1, 1), (6, 1)), ('B', (1, 2), (2, 1), (6, 1)), ('C', (1, 2), (2, 1), (7, 1)), ('C', (1, 2), (2, 1), (7, 2)), ('B', (1, 2), (3, 1), (7, 2)), ('C', (1, 2), (3, 1), (7, 3)), ('B', (1, 2), (3, 2), (7, 3)), ('C', (1, 2), (3, 2), (8, 3)), ('C', (1, 2), (3, 2), (9, 3)), ('B', (1, 2), (4, 2), (9, 3)), ('C', (1, 2), (4, 2), (10, 3)), ('B', (1, 2), (4, 3), (10, 3)), ('C', (1, 2), (4, 3), (11, 3)), ('C', (1, 2), (4, 3), (12, 3)), ('B', (1, 2), (4, 4), (12, 3)), ('B', (1, 2), (5, 4), (12, 3)), ('C', (1, 2), (5, 4), (13, 3)), ('C', (1, 2), (5, 4), (14, 3)), ('C', (1, 2), (5, 4), (14, 4)), ('C', (1, 2), (5, 4), (15, 4)), ('C', (1, 2), (5, 4), (16, 4)), ('B', (1, 2), (6, 4), (16, 4)), ('B', (1, 2), (6, 5), (16, 4)), ('C', (1, 2), (6, 5), (17, 4)), ('C', (1, 2), (6, 5), (18, 4)), ('C', (1, 2), (6, 5), (19, 4)), ('B', (1, 2), (7, 5), (19, 4)), ('C', (1, 2), (7, 5), (20, 4)), ('C', (1, 2), (7, 5), (21, 4)), ('C', (1, 2), (7, 5), (22, 4)), ('C', (1, 2), (7, 5), (22, 5)), ('C', (1, 2), (7, 5), (22, 6)), ('C', (1, 2), (7, 5), (23, 6)), ('C', (1, 2), (7, 5), (23, 7)), ('C', (1, 2), (7, 5), (24, 7)), ('C', (1, 2), (7, 5), (25, 7)), ('C', (1, 2), (7, 5), (26, 7)), ('C', (1, 2), (7, 5), (26, 8)), ('C', (1, 2), (7, 5), (27, 8)), ('C', (1, 2), (7, 5), (28, 8)), ('C', (1, 2), (7, 5), (29, 8)), ('C', (1, 2), (7, 5), (30, 8)), ('C', (1, 2), (7, 5), (31, 8)), ('C', (1, 2), (7, 5), (32, 8)), ('C', (1, 2), (7, 5), (33, 8))]\n"
     ]
    }
   ],
   "source": [
    "test50 = [(\"_\",priorA,priorB,priorC)]\n",
    "for i in range(50):\n",
    "    choice = ['A','B','C']\n",
    "    choice,priorA,priorB,priorC = onetime(priorA,priorB,priorC)\n",
    "    test50.append((choice,priorA,priorB,priorC))\n",
    "print(test50)"
   ]
  },
  {
   "cell_type": "markdown",
   "id": "3fdd9142",
   "metadata": {},
   "source": [
    "$\\text{Here, each time we run the test, we are selecting one choice and updating its prior according to the outcome of the choice.}$ $\\text{(the alpha and beta value in the tuple could be view as the number of sucess+1 and faililure+1 of the choice)}$"
   ]
  },
  {
   "cell_type": "code",
   "execution_count": 179,
   "id": "d827a423",
   "metadata": {
    "scrolled": true
   },
   "outputs": [
    {
     "name": "stdout",
     "output_type": "stream",
     "text": [
      " We chosed A 1 times\n",
      " We chosed B 10 times\n",
      " We chosed C 39 times\n"
     ]
    }
   ],
   "source": [
    "count_a=0\n",
    "count_b=0\n",
    "count_c=0\n",
    "for i in range(51):\n",
    "    #here we are looping 51 times because there are 51 datas in \"test50\" (first one being initial start data)\n",
    "    if test50[i][0]=='A':\n",
    "        count_a=count_a+1\n",
    "    elif test50[i][0]=='B':\n",
    "        count_b=count_b+1\n",
    "    elif test50[i][0]=='C':\n",
    "        count_c=count_c+1\n",
    "print(\" We chosed A \"+str(count_a)+\" times\\n\",\"We chosed B \"+str(count_b)+\" times\\n\",\"We chosed C \"+str(count_c)+\" times\")"
   ]
  },
  {
   "cell_type": "markdown",
   "id": "935f3534",
   "metadata": {},
   "source": [
    "$\\text{Here, out of the 50 games we played, we chosed choice A 1 times, choice B 10 times and choice C 39 times.}$ $\\text{From the dataset \"test50\", we see that initially we were exploring between the different choices. Then in the middle, we realized that clearly }$$\\text{choice C has a better chance at winning; so for the rest of the games, we stickd with choice C.}\\\\$\n",
    "$\\text{In conclusion, choice C is the best choice.}$ "
   ]
  }
 ],
 "metadata": {
  "kernelspec": {
   "display_name": "Python 3 (ipykernel)",
   "language": "python",
   "name": "python3"
  },
  "language_info": {
   "codemirror_mode": {
    "name": "ipython",
    "version": 3
   },
   "file_extension": ".py",
   "mimetype": "text/x-python",
   "name": "python",
   "nbconvert_exporter": "python",
   "pygments_lexer": "ipython3",
   "version": "3.11.6"
  }
 },
 "nbformat": 4,
 "nbformat_minor": 5
}
